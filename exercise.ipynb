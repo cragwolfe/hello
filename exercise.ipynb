{
 "cells": [
  {
   "cell_type": "code",
   "execution_count": null,
   "id": "450ea4c5-9b28-4d70-b4ab-6ad0e6f8c91e",
   "metadata": {},
   "outputs": [],
   "source": [
    "import json\n",
    "\n",
    "with open(\"news.json\") as newsfile:\n",
    "    news = json.load(newsfile)\n",
    "    \n",
    "print(news[\"articles\"][0])\n",
    "print(len(news[\"articles\"]))"
   ]
  },
  {
   "cell_type": "code",
   "execution_count": null,
   "id": "7f486313-3869-4705-80b0-b4eedc7c9264",
   "metadata": {},
   "outputs": [],
   "source": []
  }
 ],
 "metadata": {
  "kernelspec": {
   "display_name": "Python 3 (ipykernel)",
   "language": "python",
   "name": "python3"
  },
  "language_info": {
   "codemirror_mode": {
    "name": "ipython",
    "version": 3
   },
   "file_extension": ".py",
   "mimetype": "text/x-python",
   "name": "python",
   "nbconvert_exporter": "python",
   "pygments_lexer": "ipython3",
   "version": "3.7.12"
  }
 },
 "nbformat": 4,
 "nbformat_minor": 5
}
